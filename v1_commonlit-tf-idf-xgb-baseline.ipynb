{
 "cells": [
  {
   "cell_type": "markdown",
   "id": "a4cf1716",
   "metadata": {
    "papermill": {
     "duration": 0.005339,
     "end_time": "2023-07-26T07:49:46.431765",
     "exception": false,
     "start_time": "2023-07-26T07:49:46.426426",
     "status": "completed"
    },
    "tags": []
   },
   "source": [
    "# CommonLit | TF-IDF & XGB Baseline"
   ]
  },
  {
   "cell_type": "markdown",
   "id": "e95b70b7",
   "metadata": {
    "papermill": {
     "duration": 0.004376,
     "end_time": "2023-07-26T07:49:46.440725",
     "exception": false,
     "start_time": "2023-07-26T07:49:46.436349",
     "status": "completed"
    },
    "tags": []
   },
   "source": [
    "# 1. Libraries"
   ]
  },
  {
   "cell_type": "code",
   "execution_count": 1,
   "id": "b2bf2fac",
   "metadata": {},
   "outputs": [
    {
     "name": "stdout",
     "output_type": "stream",
     "text": [
      "Collecting nltk\n",
      "  Downloading nltk-3.8.1-py3-none-any.whl (1.5 MB)\n",
      "\u001b[2K     \u001b[90m━━━━━━━━━━━━━━━━━━━━━━━━━━━━━━━━━━━━━━━━\u001b[0m \u001b[32m1.5/1.5 MB\u001b[0m \u001b[31m7.9 MB/s\u001b[0m eta \u001b[36m0:00:00\u001b[0m00:01\u001b[0m00:01\u001b[0m\n",
      "\u001b[?25hRequirement already satisfied: click in /opt/homebrew/lib/python3.10/site-packages (from nltk) (8.1.3)\n",
      "Requirement already satisfied: joblib in /opt/homebrew/lib/python3.10/site-packages (from nltk) (1.2.0)\n",
      "Collecting regex>=2021.8.3 (from nltk)\n",
      "  Downloading regex-2023.8.8-cp310-cp310-macosx_11_0_arm64.whl (289 kB)\n",
      "\u001b[2K     \u001b[90m━━━━━━━━━━━━━━━━━━━━━━━━━━━━━━━━━━━━━━━\u001b[0m \u001b[32m289.3/289.3 kB\u001b[0m \u001b[31m7.3 MB/s\u001b[0m eta \u001b[36m0:00:00\u001b[0m00:01\u001b[0m\n",
      "\u001b[?25hRequirement already satisfied: tqdm in /opt/homebrew/lib/python3.10/site-packages (from nltk) (4.64.1)\n",
      "Installing collected packages: regex, nltk\n",
      "Successfully installed nltk-3.8.1 regex-2023.8.8\n",
      "\n",
      "\u001b[1m[\u001b[0m\u001b[34;49mnotice\u001b[0m\u001b[1;39;49m]\u001b[0m\u001b[39;49m A new release of pip is available: \u001b[0m\u001b[31;49m23.1.2\u001b[0m\u001b[39;49m -> \u001b[0m\u001b[32;49m23.2.1\u001b[0m\n",
      "\u001b[1m[\u001b[0m\u001b[34;49mnotice\u001b[0m\u001b[1;39;49m]\u001b[0m\u001b[39;49m To update, run: \u001b[0m\u001b[32;49mpython3.10 -m pip install --upgrade pip\u001b[0m\n"
     ]
    }
   ],
   "source": [
    "!pip install nltk"
   ]
  },
  {
   "cell_type": "code",
   "execution_count": 2,
   "id": "5e84bb02",
   "metadata": {
    "_cell_guid": "b1076dfc-b9ad-4769-8c92-a6c4dae69d19",
    "_uuid": "8f2839f25d086af736a60e9eeb907d3b93b6e0e5",
    "execution": {
     "iopub.execute_input": "2023-07-26T07:49:46.451985Z",
     "iopub.status.busy": "2023-07-26T07:49:46.451184Z",
     "iopub.status.idle": "2023-07-26T07:49:48.538121Z",
     "shell.execute_reply": "2023-07-26T07:49:48.537132Z"
    },
    "papermill": {
     "duration": 2.095626,
     "end_time": "2023-07-26T07:49:48.540784",
     "exception": false,
     "start_time": "2023-07-26T07:49:46.445158",
     "status": "completed"
    },
    "tags": []
   },
   "outputs": [],
   "source": [
    "import os\n",
    "import re\n",
    "import nltk\n",
    "import string\n",
    "import warnings\n",
    "import numpy as np\n",
    "import pandas as pd\n",
    "import xgboost as xgb\n",
    "import seaborn as sns\n",
    "import matplotlib.pyplot as plt\n",
    "from nltk.corpus import stopwords\n",
    "from sklearn.model_selection import KFold\n",
    "from sklearn.feature_extraction.text import TfidfVectorizer\n",
    "warnings.filterwarnings('ignore')"
   ]
  },
  {
   "cell_type": "code",
   "execution_count": 11,
   "id": "43f5f131",
   "metadata": {
    "execution": {
     "iopub.execute_input": "2023-07-26T07:49:48.551907Z",
     "iopub.status.busy": "2023-07-26T07:49:48.551246Z",
     "iopub.status.idle": "2023-07-26T07:49:48.557034Z",
     "shell.execute_reply": "2023-07-26T07:49:48.556122Z"
    },
    "papermill": {
     "duration": 0.013777,
     "end_time": "2023-07-26T07:49:48.559345",
     "exception": false,
     "start_time": "2023-07-26T07:49:48.545568",
     "status": "completed"
    },
    "tags": []
   },
   "outputs": [],
   "source": [
    "class config:\n",
    "    sample_submission_path = 'commonlit-evaluate-student-summaries/sample_submission.csv'\n",
    "    prompts_train_path = 'commonlit-evaluate-student-summaries/prompts_train.csv'\n",
    "    summaries_test_path = 'commonlit-evaluate-student-summaries/summaries_test.csv'\n",
    "    summaries_train_path = 'commonlit-evaluate-student-summaries/summaries_train.csv'\n",
    "    prompts_test_path = 'commonlit-evaluate-student-summaries/prompts_test.csv'"
   ]
  },
  {
   "cell_type": "markdown",
   "id": "96097182",
   "metadata": {
    "papermill": {
     "duration": 0.004642,
     "end_time": "2023-07-26T07:49:48.568913",
     "exception": false,
     "start_time": "2023-07-26T07:49:48.564271",
     "status": "completed"
    },
    "tags": []
   },
   "source": [
    "# 2. Loading Data"
   ]
  },
  {
   "cell_type": "code",
   "execution_count": 12,
   "id": "a29b0e24",
   "metadata": {
    "execution": {
     "iopub.execute_input": "2023-07-26T07:49:48.579796Z",
     "iopub.status.busy": "2023-07-26T07:49:48.579452Z",
     "iopub.status.idle": "2023-07-26T07:49:48.742548Z",
     "shell.execute_reply": "2023-07-26T07:49:48.741352Z"
    },
    "papermill": {
     "duration": 0.171769,
     "end_time": "2023-07-26T07:49:48.745228",
     "exception": false,
     "start_time": "2023-07-26T07:49:48.573459",
     "status": "completed"
    },
    "tags": []
   },
   "outputs": [
    {
     "name": "stdout",
     "output_type": "stream",
     "text": [
      "sample_submission shape: (4, 3)\n",
      "prompts_train shape: (4, 4)\n",
      "summaries_test shape: (4, 3)\n",
      "summaries_train shape: (7165, 5)\n",
      "prompts_test shape: (2, 4)\n",
      "------------------------------------------------------------------------------------------\n",
      "sample_submission missing values: 0\n",
      "prompts_train missing values: 0\n",
      "summaries_test missing values: 0\n",
      "summaries_train missing values: 0\n",
      "prompts_test missing values: 0\n",
      "------------------------------------------------------------------------------------------\n"
     ]
    },
    {
     "data": {
      "text/html": [
       "<div>\n",
       "<style scoped>\n",
       "    .dataframe tbody tr th:only-of-type {\n",
       "        vertical-align: middle;\n",
       "    }\n",
       "\n",
       "    .dataframe tbody tr th {\n",
       "        vertical-align: top;\n",
       "    }\n",
       "\n",
       "    .dataframe thead th {\n",
       "        text-align: right;\n",
       "    }\n",
       "</style>\n",
       "<table border=\"1\" class=\"dataframe\">\n",
       "  <thead>\n",
       "    <tr style=\"text-align: right;\">\n",
       "      <th></th>\n",
       "      <th>student_id</th>\n",
       "      <th>prompt_id</th>\n",
       "      <th>text</th>\n",
       "      <th>content</th>\n",
       "      <th>wording</th>\n",
       "    </tr>\n",
       "  </thead>\n",
       "  <tbody>\n",
       "    <tr>\n",
       "      <th>0</th>\n",
       "      <td>000e8c3c7ddb</td>\n",
       "      <td>814d6b</td>\n",
       "      <td>The third wave was an experimentto see how peo...</td>\n",
       "      <td>0.205683</td>\n",
       "      <td>0.380538</td>\n",
       "    </tr>\n",
       "    <tr>\n",
       "      <th>1</th>\n",
       "      <td>0020ae56ffbf</td>\n",
       "      <td>ebad26</td>\n",
       "      <td>They would rub it up with soda to make the sme...</td>\n",
       "      <td>-0.548304</td>\n",
       "      <td>0.506755</td>\n",
       "    </tr>\n",
       "    <tr>\n",
       "      <th>2</th>\n",
       "      <td>004e978e639e</td>\n",
       "      <td>3b9047</td>\n",
       "      <td>In Egypt, there were many occupations and soci...</td>\n",
       "      <td>3.128928</td>\n",
       "      <td>4.231226</td>\n",
       "    </tr>\n",
       "    <tr>\n",
       "      <th>3</th>\n",
       "      <td>005ab0199905</td>\n",
       "      <td>3b9047</td>\n",
       "      <td>The highest class was Pharaohs these people we...</td>\n",
       "      <td>-0.210614</td>\n",
       "      <td>-0.471415</td>\n",
       "    </tr>\n",
       "    <tr>\n",
       "      <th>4</th>\n",
       "      <td>0070c9e7af47</td>\n",
       "      <td>814d6b</td>\n",
       "      <td>The Third Wave developed  rapidly because the ...</td>\n",
       "      <td>3.272894</td>\n",
       "      <td>3.219757</td>\n",
       "    </tr>\n",
       "  </tbody>\n",
       "</table>\n",
       "</div>"
      ],
      "text/plain": [
       "     student_id prompt_id                                               text   \n",
       "0  000e8c3c7ddb    814d6b  The third wave was an experimentto see how peo...  \\\n",
       "1  0020ae56ffbf    ebad26  They would rub it up with soda to make the sme...   \n",
       "2  004e978e639e    3b9047  In Egypt, there were many occupations and soci...   \n",
       "3  005ab0199905    3b9047  The highest class was Pharaohs these people we...   \n",
       "4  0070c9e7af47    814d6b  The Third Wave developed  rapidly because the ...   \n",
       "\n",
       "    content   wording  \n",
       "0  0.205683  0.380538  \n",
       "1 -0.548304  0.506755  \n",
       "2  3.128928  4.231226  \n",
       "3 -0.210614 -0.471415  \n",
       "4  3.272894  3.219757  "
      ]
     },
     "execution_count": 12,
     "metadata": {},
     "output_type": "execute_result"
    }
   ],
   "source": [
    "sample_submission = pd.read_csv(config.sample_submission_path)\n",
    "prompts_train = pd.read_csv(config.prompts_train_path)\n",
    "summaries_test = pd.read_csv(config.summaries_test_path)\n",
    "summaries_train = pd.read_csv(config.summaries_train_path)\n",
    "prompts_test = pd.read_csv(config.prompts_test_path)\n",
    "\n",
    "print(f'sample_submission shape: {sample_submission.shape}')\n",
    "print(f'prompts_train shape: {prompts_train.shape}')\n",
    "print(f'summaries_test shape: {summaries_test.shape}')\n",
    "print(f'summaries_train shape: {summaries_train.shape}')\n",
    "print(f'prompts_test shape: {prompts_test.shape}')\n",
    "print('-'*90)\n",
    "print(f'sample_submission missing values: {sample_submission.isnull().sum().sum()}')\n",
    "print(f'prompts_train missing values: {prompts_train.isnull().sum().sum()}')\n",
    "print(f'summaries_test missing values: {summaries_test.isnull().sum().sum()}')\n",
    "print(f'summaries_train missing values: {summaries_train.isnull().sum().sum()}')\n",
    "print(f'prompts_test missing values: {prompts_test.isnull().sum().sum()}')\n",
    "print('-'*90)\n",
    "summaries_train.head()"
   ]
  },
  {
   "cell_type": "markdown",
   "id": "592c593a",
   "metadata": {
    "papermill": {
     "duration": 0.005755,
     "end_time": "2023-07-26T07:49:48.757247",
     "exception": false,
     "start_time": "2023-07-26T07:49:48.751492",
     "status": "completed"
    },
    "tags": []
   },
   "source": [
    "# 3. Target Distribution"
   ]
  },
  {
   "cell_type": "code",
   "execution_count": 13,
   "id": "94f503f7",
   "metadata": {
    "execution": {
     "iopub.execute_input": "2023-07-26T07:49:48.769831Z",
     "iopub.status.busy": "2023-07-26T07:49:48.769461Z",
     "iopub.status.idle": "2023-07-26T07:49:49.408359Z",
     "shell.execute_reply": "2023-07-26T07:49:49.407446Z"
    },
    "papermill": {
     "duration": 0.647795,
     "end_time": "2023-07-26T07:49:49.410597",
     "exception": false,
     "start_time": "2023-07-26T07:49:48.762802",
     "status": "completed"
    },
    "tags": []
   },
   "outputs": [
    {
     "data": {
      "image/png": "[encoded data removed]",
      "text/plain": [
       "<Figure size 1400x500 with 2 Axes>"
      ]
     },
     "metadata": {},
     "output_type": "display_data"
    }
   ],
   "source": [
    "plt.figure(figsize = (14, 5))\n",
    "plt.subplot(1, 2, 1)\n",
    "sns.histplot(data=summaries_train, x='content')\n",
    "plt.subplot(1, 2, 2)\n",
    "sns.histplot(data=summaries_train, x='wording')\n",
    "plt.show()"
   ]
  },
  {
   "cell_type": "markdown",
   "id": "8baac908",
   "metadata": {
    "papermill": {
     "duration": 0.005502,
     "end_time": "2023-07-26T07:49:49.421501",
     "exception": false,
     "start_time": "2023-07-26T07:49:49.415999",
     "status": "completed"
    },
    "tags": []
   },
   "source": [
    "# 4. Feature Engineering"
   ]
  },
  {
   "cell_type": "code",
   "execution_count": 14,
   "id": "af99a772",
   "metadata": {
    "execution": {
     "iopub.execute_input": "2023-07-26T07:49:49.433556Z",
     "iopub.status.busy": "2023-07-26T07:49:49.433199Z",
     "iopub.status.idle": "2023-07-26T07:49:49.444661Z",
     "shell.execute_reply": "2023-07-26T07:49:49.443637Z"
    },
    "papermill": {
     "duration": 0.019964,
     "end_time": "2023-07-26T07:49:49.446707",
     "exception": false,
     "start_time": "2023-07-26T07:49:49.426743",
     "status": "completed"
    },
    "tags": []
   },
   "outputs": [],
   "source": [
    "def clean_text(text: str) -> str:\n",
    "    text = re.sub(r'\\s+', ' ', text)\n",
    "    text = re.sub(r'[^a-zA-Z\\s]', '', text)\n",
    "    text = text.lower()\n",
    "    return text\n",
    "\n",
    "def count_total_words(text: str) -> int:\n",
    "    words = text.split()\n",
    "    total_words = len(words)\n",
    "    return total_words\n",
    "\n",
    "def count_stopwords(text: str) -> int:\n",
    "    stopword_list = set(stopwords.words('english'))\n",
    "    words = text.split()\n",
    "    stopwords_count = sum(1 for word in words if word.lower() in stopword_list)\n",
    "    return stopwords_count\n",
    "\n",
    "def count_punctuation(text: str) -> int:\n",
    "    punctuation_set = set(string.punctuation)\n",
    "    punctuation_count = sum(1 for char in text if char in punctuation_set)\n",
    "    return punctuation_count\n",
    "\n",
    "def count_numbers(text: str) -> int:\n",
    "    numbers = re.findall(r'\\d+', text)\n",
    "    numbers_count = len(numbers)\n",
    "    return numbers_count\n",
    "\n",
    "def feature_engineer(dataframe: pd.DataFrame, feature: str = 'text') -> pd.DataFrame:\n",
    "    dataframe[f'{feature}_length'] = dataframe[feature].apply(lambda x: len(x))\n",
    "    dataframe[f'{feature}_word_cnt'] = dataframe[feature].apply(lambda x: count_total_words(x))\n",
    "    dataframe[f'{feature}_stopword_cnt'] = dataframe[feature].apply(lambda x: count_stopwords(x))\n",
    "    dataframe[f'{feature}_punct_cnt'] = dataframe[feature].apply(lambda x: count_punctuation(x))\n",
    "    dataframe[f'{feature}_number_cnt'] = dataframe[feature].apply(lambda x: count_numbers(x))\n",
    "    return dataframe"
   ]
  },
  {
   "cell_type": "code",
   "execution_count": 28,
   "id": "0101227c",
   "metadata": {
    "execution": {
     "iopub.execute_input": "2023-07-26T07:49:49.459246Z",
     "iopub.status.busy": "2023-07-26T07:49:49.458614Z",
     "iopub.status.idle": "2023-07-26T07:49:50.921263Z",
     "shell.execute_reply": "2023-07-26T07:49:50.920261Z"
    },
    "papermill": {
     "duration": 1.471681,
     "end_time": "2023-07-26T07:49:50.923814",
     "exception": false,
     "start_time": "2023-07-26T07:49:49.452133",
     "status": "completed"
    },
    "tags": []
   },
   "outputs": [
    {
     "name": "stderr",
     "output_type": "stream",
     "text": [
      "[nltk_data] Downloading package stopwords to\n",
      "[nltk_data]     /Users/jmj3047/nltk_data...\n",
      "[nltk_data]   Package stopwords is already up-to-date!\n"
     ]
    }
   ],
   "source": [
    "import nltk\n",
    "nltk.download('stopwords')\n",
    "summaries_train = feature_engineer(summaries_train)\n",
    "summaries_test = feature_engineer(summaries_test)"
   ]
  },
  {
   "cell_type": "code",
   "execution_count": 29,
   "id": "7e9d8d1c",
   "metadata": {
    "execution": {
     "iopub.execute_input": "2023-07-26T07:49:50.938713Z",
     "iopub.status.busy": "2023-07-26T07:49:50.938344Z",
     "iopub.status.idle": "2023-07-26T07:49:51.551322Z",
     "shell.execute_reply": "2023-07-26T07:49:51.550305Z"
    },
    "papermill": {
     "duration": 0.622653,
     "end_time": "2023-07-26T07:49:51.553715",
     "exception": false,
     "start_time": "2023-07-26T07:49:50.931062",
     "status": "completed"
    },
    "tags": []
   },
   "outputs": [
    {
     "name": "stderr",
     "output_type": "stream",
     "text": [
      "[nltk_data] Downloading package stopwords to\n",
      "[nltk_data]     /Users/jmj3047/nltk_data...\n",
      "[nltk_data]   Package stopwords is already up-to-date!\n"
     ]
    },
    {
     "data": {
      "text/html": [
       "<div>\n",
       "<style scoped>\n",
       "    .dataframe tbody tr th:only-of-type {\n",
       "        vertical-align: middle;\n",
       "    }\n",
       "\n",
       "    .dataframe tbody tr th {\n",
       "        vertical-align: top;\n",
       "    }\n",
       "\n",
       "    .dataframe thead th {\n",
       "        text-align: right;\n",
       "    }\n",
       "</style>\n",
       "<table border=\"1\" class=\"dataframe\">\n",
       "  <thead>\n",
       "    <tr style=\"text-align: right;\">\n",
       "      <th></th>\n",
       "      <th>student_id</th>\n",
       "      <th>prompt_id</th>\n",
       "      <th>text</th>\n",
       "      <th>content</th>\n",
       "      <th>wording</th>\n",
       "      <th>text_length</th>\n",
       "      <th>text_word_cnt</th>\n",
       "      <th>tfidf_able</th>\n",
       "      <th>tfidf_according</th>\n",
       "      <th>tfidf_actions</th>\n",
       "      <th>...</th>\n",
       "      <th>tfidf_well</th>\n",
       "      <th>tfidf_whenever</th>\n",
       "      <th>tfidf_white</th>\n",
       "      <th>tfidf_whole</th>\n",
       "      <th>tfidf_work</th>\n",
       "      <th>tfidf_worked</th>\n",
       "      <th>tfidf_workers</th>\n",
       "      <th>tfidf_working</th>\n",
       "      <th>tfidf_would</th>\n",
       "      <th>tfidf_write</th>\n",
       "    </tr>\n",
       "  </thead>\n",
       "  <tbody>\n",
       "    <tr>\n",
       "      <th>0</th>\n",
       "      <td>000e8c3c7ddb</td>\n",
       "      <td>814d6b</td>\n",
       "      <td>The third wave was an experimentto see how peo...</td>\n",
       "      <td>0.205683</td>\n",
       "      <td>0.380538</td>\n",
       "      <td>346</td>\n",
       "      <td>61</td>\n",
       "      <td>0.000000</td>\n",
       "      <td>0.0</td>\n",
       "      <td>0.0</td>\n",
       "      <td>...</td>\n",
       "      <td>0.000000</td>\n",
       "      <td>0.0</td>\n",
       "      <td>0.0</td>\n",
       "      <td>0.0</td>\n",
       "      <td>0.000000</td>\n",
       "      <td>0.0</td>\n",
       "      <td>0.000000</td>\n",
       "      <td>0.0</td>\n",
       "      <td>0.000000</td>\n",
       "      <td>0.000000</td>\n",
       "    </tr>\n",
       "    <tr>\n",
       "      <th>1</th>\n",
       "      <td>0020ae56ffbf</td>\n",
       "      <td>ebad26</td>\n",
       "      <td>They would rub it up with soda to make the sme...</td>\n",
       "      <td>-0.548304</td>\n",
       "      <td>0.506755</td>\n",
       "      <td>244</td>\n",
       "      <td>52</td>\n",
       "      <td>0.000000</td>\n",
       "      <td>0.0</td>\n",
       "      <td>0.0</td>\n",
       "      <td>...</td>\n",
       "      <td>0.000000</td>\n",
       "      <td>0.0</td>\n",
       "      <td>0.0</td>\n",
       "      <td>0.0</td>\n",
       "      <td>0.000000</td>\n",
       "      <td>0.0</td>\n",
       "      <td>0.252892</td>\n",
       "      <td>0.0</td>\n",
       "      <td>0.425880</td>\n",
       "      <td>0.000000</td>\n",
       "    </tr>\n",
       "    <tr>\n",
       "      <th>2</th>\n",
       "      <td>004e978e639e</td>\n",
       "      <td>3b9047</td>\n",
       "      <td>In Egypt, there were many occupations and soci...</td>\n",
       "      <td>3.128928</td>\n",
       "      <td>4.231226</td>\n",
       "      <td>1370</td>\n",
       "      <td>235</td>\n",
       "      <td>0.114092</td>\n",
       "      <td>0.0</td>\n",
       "      <td>0.0</td>\n",
       "      <td>...</td>\n",
       "      <td>0.089862</td>\n",
       "      <td>0.0</td>\n",
       "      <td>0.0</td>\n",
       "      <td>0.0</td>\n",
       "      <td>0.091531</td>\n",
       "      <td>0.0</td>\n",
       "      <td>0.090915</td>\n",
       "      <td>0.0</td>\n",
       "      <td>0.306210</td>\n",
       "      <td>0.116408</td>\n",
       "    </tr>\n",
       "    <tr>\n",
       "      <th>3</th>\n",
       "      <td>005ab0199905</td>\n",
       "      <td>3b9047</td>\n",
       "      <td>The highest class was Pharaohs these people we...</td>\n",
       "      <td>-0.210614</td>\n",
       "      <td>-0.471415</td>\n",
       "      <td>157</td>\n",
       "      <td>25</td>\n",
       "      <td>0.000000</td>\n",
       "      <td>0.0</td>\n",
       "      <td>0.0</td>\n",
       "      <td>...</td>\n",
       "      <td>0.000000</td>\n",
       "      <td>0.0</td>\n",
       "      <td>0.0</td>\n",
       "      <td>0.0</td>\n",
       "      <td>0.000000</td>\n",
       "      <td>0.0</td>\n",
       "      <td>0.000000</td>\n",
       "      <td>0.0</td>\n",
       "      <td>0.000000</td>\n",
       "      <td>0.000000</td>\n",
       "    </tr>\n",
       "    <tr>\n",
       "      <th>4</th>\n",
       "      <td>0070c9e7af47</td>\n",
       "      <td>814d6b</td>\n",
       "      <td>The Third Wave developed  rapidly because the ...</td>\n",
       "      <td>3.272894</td>\n",
       "      <td>3.219757</td>\n",
       "      <td>1225</td>\n",
       "      <td>203</td>\n",
       "      <td>0.000000</td>\n",
       "      <td>0.0</td>\n",
       "      <td>0.0</td>\n",
       "      <td>...</td>\n",
       "      <td>0.000000</td>\n",
       "      <td>0.0</td>\n",
       "      <td>0.0</td>\n",
       "      <td>0.0</td>\n",
       "      <td>0.000000</td>\n",
       "      <td>0.0</td>\n",
       "      <td>0.000000</td>\n",
       "      <td>0.0</td>\n",
       "      <td>0.159293</td>\n",
       "      <td>0.000000</td>\n",
       "    </tr>\n",
       "  </tbody>\n",
       "</table>\n",
       "<p>5 rows × 510 columns</p>\n",
       "</div>"
      ],
      "text/plain": [
       "     student_id prompt_id                                               text   \n",
       "0  000e8c3c7ddb    814d6b  The third wave was an experimentto see how peo...  \\\n",
       "1  0020ae56ffbf    ebad26  They would rub it up with soda to make the sme...   \n",
       "2  004e978e639e    3b9047  In Egypt, there were many occupations and soci...   \n",
       "3  005ab0199905    3b9047  The highest class was Pharaohs these people we...   \n",
       "4  0070c9e7af47    814d6b  The Third Wave developed  rapidly because the ...   \n",
       "\n",
       "    content   wording  text_length  text_word_cnt  tfidf_able   \n",
       "0  0.205683  0.380538          346             61    0.000000  \\\n",
       "1 -0.548304  0.506755          244             52    0.000000   \n",
       "2  3.128928  4.231226         1370            235    0.114092   \n",
       "3 -0.210614 -0.471415          157             25    0.000000   \n",
       "4  3.272894  3.219757         1225            203    0.000000   \n",
       "\n",
       "   tfidf_according  tfidf_actions  ...  tfidf_well  tfidf_whenever   \n",
       "0              0.0            0.0  ...    0.000000             0.0  \\\n",
       "1              0.0            0.0  ...    0.000000             0.0   \n",
       "2              0.0            0.0  ...    0.089862             0.0   \n",
       "3              0.0            0.0  ...    0.000000             0.0   \n",
       "4              0.0            0.0  ...    0.000000             0.0   \n",
       "\n",
       "   tfidf_white  tfidf_whole  tfidf_work  tfidf_worked  tfidf_workers   \n",
       "0          0.0          0.0    0.000000           0.0       0.000000  \\\n",
       "1          0.0          0.0    0.000000           0.0       0.252892   \n",
       "2          0.0          0.0    0.091531           0.0       0.090915   \n",
       "3          0.0          0.0    0.000000           0.0       0.000000   \n",
       "4          0.0          0.0    0.000000           0.0       0.000000   \n",
       "\n",
       "   tfidf_working  tfidf_would  tfidf_write  \n",
       "0            0.0     0.000000     0.000000  \n",
       "1            0.0     0.425880     0.000000  \n",
       "2            0.0     0.306210     0.116408  \n",
       "3            0.0     0.000000     0.000000  \n",
       "4            0.0     0.159293     0.000000  \n",
       "\n",
       "[5 rows x 510 columns]"
      ]
     },
     "execution_count": 29,
     "metadata": {},
     "output_type": "execute_result"
    }
   ],
   "source": [
    "import nltk\n",
    "nltk.download('stopwords')\n",
    "\n",
    "vectorizer = TfidfVectorizer(encoding='utf-8',\n",
    "                             ngram_range=(1, 1),\n",
    "                             lowercase=True,\n",
    "                             stop_words=list(stopwords.words('english')),\n",
    "                             max_features=250)\n",
    "\n",
    "train_vectorized = pd.DataFrame(\n",
    "                vectorizer.fit_transform(summaries_train['text']).toarray(),\n",
    "                columns=[f\"tfidf_{str(f)}\" for f in vectorizer.get_feature_names_out()],\n",
    "            )\n",
    "\n",
    "test_vectorized = pd.DataFrame(\n",
    "                vectorizer.transform(summaries_test['text']).toarray(),\n",
    "                columns=[f\"tfidf_{str(f)}\" for f in vectorizer.get_feature_names_out()],\n",
    "            )\n",
    "\n",
    "summaries_train = pd.concat([summaries_train, train_vectorized], axis=1)\n",
    "\n",
    "summaries_test = pd.concat([summaries_test, test_vectorized], axis=1)\n",
    "\n",
    "summaries_train.head()"
   ]
  },
  {
   "cell_type": "code",
   "execution_count": 30,
   "id": "e0b0ae75",
   "metadata": {
    "execution": {
     "iopub.execute_input": "2023-07-26T07:49:51.568609Z",
     "iopub.status.busy": "2023-07-26T07:49:51.567992Z",
     "iopub.status.idle": "2023-07-26T07:49:51.580439Z",
     "shell.execute_reply": "2023-07-26T07:49:51.579157Z"
    },
    "papermill": {
     "duration": 0.023348,
     "end_time": "2023-07-26T07:49:51.583581",
     "exception": false,
     "start_time": "2023-07-26T07:49:51.560233",
     "status": "completed"
    },
    "tags": []
   },
   "outputs": [],
   "source": [
    "features = summaries_train.drop(columns = ['student_id', 'prompt_id', 'text', 'content', 'wording'], axis = 1).columns"
   ]
  },
  {
   "cell_type": "markdown",
   "id": "5802c452",
   "metadata": {
    "papermill": {
     "duration": 0.00556,
     "end_time": "2023-07-26T07:49:51.595292",
     "exception": false,
     "start_time": "2023-07-26T07:49:51.589732",
     "status": "completed"
    },
    "tags": []
   },
   "source": [
    "# 5. Modeling"
   ]
  },
  {
   "cell_type": "code",
   "execution_count": 31,
   "id": "d92dd640",
   "metadata": {},
   "outputs": [
    {
     "data": {
      "text/html": [
       "<div>\n",
       "<style scoped>\n",
       "    .dataframe tbody tr th:only-of-type {\n",
       "        vertical-align: middle;\n",
       "    }\n",
       "\n",
       "    .dataframe tbody tr th {\n",
       "        vertical-align: top;\n",
       "    }\n",
       "\n",
       "    .dataframe thead th {\n",
       "        text-align: right;\n",
       "    }\n",
       "</style>\n",
       "<table border=\"1\" class=\"dataframe\">\n",
       "  <thead>\n",
       "    <tr style=\"text-align: right;\">\n",
       "      <th></th>\n",
       "      <th>text_length</th>\n",
       "      <th>text_word_cnt</th>\n",
       "      <th>tfidf_able</th>\n",
       "      <th>tfidf_able</th>\n",
       "      <th>tfidf_according</th>\n",
       "      <th>tfidf_according</th>\n",
       "      <th>tfidf_actions</th>\n",
       "      <th>tfidf_actions</th>\n",
       "      <th>tfidf_also</th>\n",
       "      <th>tfidf_also</th>\n",
       "      <th>...</th>\n",
       "      <th>tfidf_worked</th>\n",
       "      <th>tfidf_worked</th>\n",
       "      <th>tfidf_workers</th>\n",
       "      <th>tfidf_workers</th>\n",
       "      <th>tfidf_working</th>\n",
       "      <th>tfidf_working</th>\n",
       "      <th>tfidf_would</th>\n",
       "      <th>tfidf_would</th>\n",
       "      <th>tfidf_write</th>\n",
       "      <th>tfidf_write</th>\n",
       "    </tr>\n",
       "  </thead>\n",
       "  <tbody>\n",
       "    <tr>\n",
       "      <th>0</th>\n",
       "      <td>14</td>\n",
       "      <td>3</td>\n",
       "      <td>0.0</td>\n",
       "      <td>0.0</td>\n",
       "      <td>0.0</td>\n",
       "      <td>0.0</td>\n",
       "      <td>0.0</td>\n",
       "      <td>0.0</td>\n",
       "      <td>0.0</td>\n",
       "      <td>0.0</td>\n",
       "      <td>...</td>\n",
       "      <td>0.0</td>\n",
       "      <td>0.0</td>\n",
       "      <td>0.0</td>\n",
       "      <td>0.0</td>\n",
       "      <td>0.0</td>\n",
       "      <td>0.0</td>\n",
       "      <td>0.0</td>\n",
       "      <td>0.0</td>\n",
       "      <td>0.0</td>\n",
       "      <td>0.0</td>\n",
       "    </tr>\n",
       "    <tr>\n",
       "      <th>1</th>\n",
       "      <td>14</td>\n",
       "      <td>3</td>\n",
       "      <td>0.0</td>\n",
       "      <td>0.0</td>\n",
       "      <td>0.0</td>\n",
       "      <td>0.0</td>\n",
       "      <td>0.0</td>\n",
       "      <td>0.0</td>\n",
       "      <td>0.0</td>\n",
       "      <td>0.0</td>\n",
       "      <td>...</td>\n",
       "      <td>0.0</td>\n",
       "      <td>0.0</td>\n",
       "      <td>0.0</td>\n",
       "      <td>0.0</td>\n",
       "      <td>0.0</td>\n",
       "      <td>0.0</td>\n",
       "      <td>0.0</td>\n",
       "      <td>0.0</td>\n",
       "      <td>0.0</td>\n",
       "      <td>0.0</td>\n",
       "    </tr>\n",
       "    <tr>\n",
       "      <th>2</th>\n",
       "      <td>14</td>\n",
       "      <td>3</td>\n",
       "      <td>0.0</td>\n",
       "      <td>0.0</td>\n",
       "      <td>0.0</td>\n",
       "      <td>0.0</td>\n",
       "      <td>0.0</td>\n",
       "      <td>0.0</td>\n",
       "      <td>0.0</td>\n",
       "      <td>0.0</td>\n",
       "      <td>...</td>\n",
       "      <td>0.0</td>\n",
       "      <td>0.0</td>\n",
       "      <td>0.0</td>\n",
       "      <td>0.0</td>\n",
       "      <td>0.0</td>\n",
       "      <td>0.0</td>\n",
       "      <td>0.0</td>\n",
       "      <td>0.0</td>\n",
       "      <td>0.0</td>\n",
       "      <td>0.0</td>\n",
       "    </tr>\n",
       "    <tr>\n",
       "      <th>3</th>\n",
       "      <td>14</td>\n",
       "      <td>3</td>\n",
       "      <td>0.0</td>\n",
       "      <td>0.0</td>\n",
       "      <td>0.0</td>\n",
       "      <td>0.0</td>\n",
       "      <td>0.0</td>\n",
       "      <td>0.0</td>\n",
       "      <td>0.0</td>\n",
       "      <td>0.0</td>\n",
       "      <td>...</td>\n",
       "      <td>0.0</td>\n",
       "      <td>0.0</td>\n",
       "      <td>0.0</td>\n",
       "      <td>0.0</td>\n",
       "      <td>0.0</td>\n",
       "      <td>0.0</td>\n",
       "      <td>0.0</td>\n",
       "      <td>0.0</td>\n",
       "      <td>0.0</td>\n",
       "      <td>0.0</td>\n",
       "    </tr>\n",
       "  </tbody>\n",
       "</table>\n",
       "<p>4 rows × 1005 columns</p>\n",
       "</div>"
      ],
      "text/plain": [
       "   text_length  text_word_cnt  tfidf_able  tfidf_able  tfidf_according   \n",
       "0           14              3         0.0         0.0              0.0  \\\n",
       "1           14              3         0.0         0.0              0.0   \n",
       "2           14              3         0.0         0.0              0.0   \n",
       "3           14              3         0.0         0.0              0.0   \n",
       "\n",
       "   tfidf_according  tfidf_actions  tfidf_actions  tfidf_also  tfidf_also  ...   \n",
       "0              0.0            0.0            0.0         0.0         0.0  ...  \\\n",
       "1              0.0            0.0            0.0         0.0         0.0  ...   \n",
       "2              0.0            0.0            0.0         0.0         0.0  ...   \n",
       "3              0.0            0.0            0.0         0.0         0.0  ...   \n",
       "\n",
       "   tfidf_worked  tfidf_worked  tfidf_workers  tfidf_workers  tfidf_working   \n",
       "0           0.0           0.0            0.0            0.0            0.0  \\\n",
       "1           0.0           0.0            0.0            0.0            0.0   \n",
       "2           0.0           0.0            0.0            0.0            0.0   \n",
       "3           0.0           0.0            0.0            0.0            0.0   \n",
       "\n",
       "   tfidf_working  tfidf_would  tfidf_would  tfidf_write  tfidf_write  \n",
       "0            0.0          0.0          0.0          0.0          0.0  \n",
       "1            0.0          0.0          0.0          0.0          0.0  \n",
       "2            0.0          0.0          0.0          0.0          0.0  \n",
       "3            0.0          0.0          0.0          0.0          0.0  \n",
       "\n",
       "[4 rows x 1005 columns]"
      ]
     },
     "execution_count": 31,
     "metadata": {},
     "output_type": "execute_result"
    }
   ],
   "source": [
    "# features()\n",
    "summaries_test[features]"
   ]
  },
  {
   "cell_type": "code",
   "execution_count": 32,
   "id": "c271a133",
   "metadata": {
    "execution": {
     "iopub.execute_input": "2023-07-26T07:49:51.609646Z",
     "iopub.status.busy": "2023-07-26T07:49:51.608678Z",
     "iopub.status.idle": "2023-07-26T07:57:17.953002Z",
     "shell.execute_reply": "2023-07-26T07:57:17.951828Z"
    },
    "papermill": {
     "duration": 446.354599,
     "end_time": "2023-07-26T07:57:17.955945",
     "exception": false,
     "start_time": "2023-07-26T07:49:51.601346",
     "status": "completed"
    },
    "tags": []
   },
   "outputs": [
    {
     "ename": "ValueError",
     "evalue": "feature_names must be unique",
     "output_type": "error",
     "traceback": [
      "\u001b[0;31m---------------------------------------------------------------------------\u001b[0m",
      "\u001b[0;31mValueError\u001b[0m                                Traceback (most recent call last)",
      "Cell \u001b[0;32mIn[32], line 25\u001b[0m\n\u001b[1;32m     23\u001b[0m X_test \u001b[39m=\u001b[39m summaries_test[features]\n\u001b[1;32m     24\u001b[0m y_test \u001b[39m=\u001b[39m np\u001b[39m.\u001b[39mzeros(shape\u001b[39m=\u001b[39msummaries_test\u001b[39m.\u001b[39mshape[\u001b[39m0\u001b[39m], dtype\u001b[39m=\u001b[39m\u001b[39mfloat\u001b[39m)\n\u001b[0;32m---> 25\u001b[0m dtest \u001b[39m=\u001b[39m xgb\u001b[39m.\u001b[39;49mDMatrix(data\u001b[39m=\u001b[39;49mX_test)\n\u001b[1;32m     27\u001b[0m cv \u001b[39m=\u001b[39m KFold(n_splits \u001b[39m=\u001b[39m N_FOLDS, shuffle \u001b[39m=\u001b[39m \u001b[39mTrue\u001b[39;00m, random_state \u001b[39m=\u001b[39m SEED)\n\u001b[1;32m     28\u001b[0m \u001b[39mfor\u001b[39;00m idx, (train_idx, val_idx) \u001b[39min\u001b[39;00m \u001b[39menumerate\u001b[39m(cv\u001b[39m.\u001b[39msplit(X, y)):\n",
      "File \u001b[0;32m/opt/homebrew/lib/python3.10/site-packages/xgboost/core.py:620\u001b[0m, in \u001b[0;36mrequire_keyword_args.<locals>.throw_if.<locals>.inner_f\u001b[0;34m(*args, **kwargs)\u001b[0m\n\u001b[1;32m    618\u001b[0m \u001b[39mfor\u001b[39;00m k, arg \u001b[39min\u001b[39;00m \u001b[39mzip\u001b[39m(sig\u001b[39m.\u001b[39mparameters, args):\n\u001b[1;32m    619\u001b[0m     kwargs[k] \u001b[39m=\u001b[39m arg\n\u001b[0;32m--> 620\u001b[0m \u001b[39mreturn\u001b[39;00m func(\u001b[39m*\u001b[39;49m\u001b[39m*\u001b[39;49mkwargs)\n",
      "File \u001b[0;32m/opt/homebrew/lib/python3.10/site-packages/xgboost/core.py:766\u001b[0m, in \u001b[0;36mDMatrix.__init__\u001b[0;34m(self, data, label, weight, base_margin, missing, silent, feature_names, feature_types, nthread, group, qid, label_lower_bound, label_upper_bound, feature_weights, enable_categorical)\u001b[0m\n\u001b[1;32m    754\u001b[0m \u001b[39mself\u001b[39m\u001b[39m.\u001b[39mset_info(\n\u001b[1;32m    755\u001b[0m     label\u001b[39m=\u001b[39mlabel,\n\u001b[1;32m    756\u001b[0m     weight\u001b[39m=\u001b[39mweight,\n\u001b[0;32m   (...)\u001b[0m\n\u001b[1;32m    762\u001b[0m     feature_weights\u001b[39m=\u001b[39mfeature_weights,\n\u001b[1;32m    763\u001b[0m )\n\u001b[1;32m    765\u001b[0m \u001b[39mif\u001b[39;00m feature_names \u001b[39mis\u001b[39;00m \u001b[39mnot\u001b[39;00m \u001b[39mNone\u001b[39;00m:\n\u001b[0;32m--> 766\u001b[0m     \u001b[39mself\u001b[39;49m\u001b[39m.\u001b[39;49mfeature_names \u001b[39m=\u001b[39m feature_names\n\u001b[1;32m    767\u001b[0m \u001b[39mif\u001b[39;00m feature_types \u001b[39mis\u001b[39;00m \u001b[39mnot\u001b[39;00m \u001b[39mNone\u001b[39;00m:\n\u001b[1;32m    768\u001b[0m     \u001b[39mself\u001b[39m\u001b[39m.\u001b[39mfeature_types \u001b[39m=\u001b[39m feature_types\n",
      "File \u001b[0;32m/opt/homebrew/lib/python3.10/site-packages/xgboost/core.py:1155\u001b[0m, in \u001b[0;36mDMatrix.feature_names\u001b[0;34m(self, feature_names)\u001b[0m\n\u001b[1;32m   1152\u001b[0m     feature_names \u001b[39m=\u001b[39m [cast(\u001b[39mstr\u001b[39m, feature_names)]\n\u001b[1;32m   1154\u001b[0m \u001b[39mif\u001b[39;00m \u001b[39mlen\u001b[39m(feature_names) \u001b[39m!=\u001b[39m \u001b[39mlen\u001b[39m(\u001b[39mset\u001b[39m(feature_names)):\n\u001b[0;32m-> 1155\u001b[0m     \u001b[39mraise\u001b[39;00m \u001b[39mValueError\u001b[39;00m(\u001b[39m'\u001b[39m\u001b[39mfeature_names must be unique\u001b[39m\u001b[39m'\u001b[39m)\n\u001b[1;32m   1156\u001b[0m \u001b[39mif\u001b[39;00m \u001b[39mlen\u001b[39m(feature_names) \u001b[39m!=\u001b[39m \u001b[39mself\u001b[39m\u001b[39m.\u001b[39mnum_col() \u001b[39mand\u001b[39;00m \u001b[39mself\u001b[39m\u001b[39m.\u001b[39mnum_col() \u001b[39m!=\u001b[39m \u001b[39m0\u001b[39m:\n\u001b[1;32m   1157\u001b[0m     msg \u001b[39m=\u001b[39m (\u001b[39m\"\u001b[39m\u001b[39mfeature_names must have the same length as data, \u001b[39m\u001b[39m\"\u001b[39m,\n\u001b[1;32m   1158\u001b[0m            \u001b[39mf\u001b[39m\u001b[39m\"\u001b[39m\u001b[39mexpected \u001b[39m\u001b[39m{\u001b[39;00m\u001b[39mself\u001b[39m\u001b[39m.\u001b[39mnum_col()\u001b[39m}\u001b[39;00m\u001b[39m, got \u001b[39m\u001b[39m{\u001b[39;00m\u001b[39mlen\u001b[39m(feature_names)\u001b[39m}\u001b[39;00m\u001b[39m\"\u001b[39m)\n",
      "\u001b[0;31mValueError\u001b[0m: feature_names must be unique"
     ]
    }
   ],
   "source": [
    "N_FOLDS = 10\n",
    "SEED = 42\n",
    "NUM_ROUNDS = 5000\n",
    "EARLY_STOPPING_ROUNDS = 500\n",
    "VERBOSE = 500\n",
    "\n",
    "params = {\n",
    "    'booster': 'gbtree',\n",
    "    'objective': 'reg:squarederror',\n",
    "    'eval_metric': 'rmse',\n",
    "    'sampling_method': 'uniform',\n",
    "    'tree_method': 'gpu_hist',\n",
    "    'learning_rate': 0.008,\n",
    "    'max_depth': 6,\n",
    "    'subsample': 0.78,\n",
    "    'min_child_weight': 5\n",
    "    \n",
    "}\n",
    "\n",
    "for target in ['content', 'wording']:\n",
    "    X = summaries_train[features]\n",
    "    y = summaries_train[target]\n",
    "    X_test = summaries_test[features]\n",
    "    y_test = np.zeros(shape=summaries_test.shape[0], dtype=float)\n",
    "    dtest = xgb.DMatrix(data=X_test)\n",
    "    \n",
    "    cv = KFold(n_splits = N_FOLDS, shuffle = True, random_state = SEED)\n",
    "    for idx, (train_idx, val_idx) in enumerate(cv.split(X, y)):\n",
    "        print(f\"| Target: {target} - Fold {idx+1} |\".center(80, \"-\"))\n",
    "        X_train = X.iloc[train_idx]\n",
    "        y_train = y.iloc[train_idx]\n",
    "        X_val = X.iloc[val_idx]\n",
    "        y_val = y.iloc[val_idx]\n",
    "        print(f'train: {X_train.shape}')\n",
    "        print(f'val: {X_val.shape}')\n",
    "        dtrain = xgb.DMatrix(data=X_train, label=y_train)\n",
    "        dval = xgb.DMatrix(data=X_val, label=y_val)\n",
    "        \n",
    "        model = xgb.train(params=params,\n",
    "                          dtrain=dtrain,\n",
    "                          evals=[(dtrain, 'train'), (dval, 'validation')],\n",
    "                          num_boost_round=NUM_ROUNDS,\n",
    "                          early_stopping_rounds=EARLY_STOPPING_ROUNDS,\n",
    "                          verbose_eval=VERBOSE)\n",
    "        \n",
    "        y_test += model.predict(dtest) / N_FOLDS\n",
    "    sample_submission[target] = y_test"
   ]
  },
  {
   "cell_type": "code",
   "execution_count": 10,
   "id": "5c4a28b5",
   "metadata": {
    "execution": {
     "iopub.execute_input": "2023-07-26T07:57:18.002914Z",
     "iopub.status.busy": "2023-07-26T07:57:18.002557Z",
     "iopub.status.idle": "2023-07-26T07:57:18.014988Z",
     "shell.execute_reply": "2023-07-26T07:57:18.013432Z"
    },
    "papermill": {
     "duration": 0.03662,
     "end_time": "2023-07-26T07:57:18.017591",
     "exception": false,
     "start_time": "2023-07-26T07:57:17.980971",
     "status": "completed"
    },
    "tags": []
   },
   "outputs": [
    {
     "data": {
      "text/html": [
       "<div>\n",
       "<style scoped>\n",
       "    .dataframe tbody tr th:only-of-type {\n",
       "        vertical-align: middle;\n",
       "    }\n",
       "\n",
       "    .dataframe tbody tr th {\n",
       "        vertical-align: top;\n",
       "    }\n",
       "\n",
       "    .dataframe thead th {\n",
       "        text-align: right;\n",
       "    }\n",
       "</style>\n",
       "<table border=\"1\" class=\"dataframe\">\n",
       "  <thead>\n",
       "    <tr style=\"text-align: right;\">\n",
       "      <th></th>\n",
       "      <th>student_id</th>\n",
       "      <th>content</th>\n",
       "      <th>wording</th>\n",
       "    </tr>\n",
       "  </thead>\n",
       "  <tbody>\n",
       "    <tr>\n",
       "      <th>0</th>\n",
       "      <td>000000ffffff</td>\n",
       "      <td>-1.634779</td>\n",
       "      <td>-1.571156</td>\n",
       "    </tr>\n",
       "    <tr>\n",
       "      <th>1</th>\n",
       "      <td>111111eeeeee</td>\n",
       "      <td>-1.634779</td>\n",
       "      <td>-1.571156</td>\n",
       "    </tr>\n",
       "    <tr>\n",
       "      <th>2</th>\n",
       "      <td>222222cccccc</td>\n",
       "      <td>-1.634779</td>\n",
       "      <td>-1.571156</td>\n",
       "    </tr>\n",
       "    <tr>\n",
       "      <th>3</th>\n",
       "      <td>333333dddddd</td>\n",
       "      <td>-1.634779</td>\n",
       "      <td>-1.571156</td>\n",
       "    </tr>\n",
       "  </tbody>\n",
       "</table>\n",
       "</div>"
      ],
      "text/plain": [
       "     student_id   content   wording\n",
       "0  000000ffffff -1.634779 -1.571156\n",
       "1  111111eeeeee -1.634779 -1.571156\n",
       "2  222222cccccc -1.634779 -1.571156\n",
       "3  333333dddddd -1.634779 -1.571156"
      ]
     },
     "execution_count": 10,
     "metadata": {},
     "output_type": "execute_result"
    }
   ],
   "source": [
    "sample_submission"
   ]
  },
  {
   "cell_type": "code",
   "execution_count": 11,
   "id": "b9d5b5df",
   "metadata": {
    "execution": {
     "iopub.execute_input": "2023-07-26T07:57:18.069368Z",
     "iopub.status.busy": "2023-07-26T07:57:18.069009Z",
     "iopub.status.idle": "2023-07-26T07:57:18.076843Z",
     "shell.execute_reply": "2023-07-26T07:57:18.075812Z"
    },
    "papermill": {
     "duration": 0.03814,
     "end_time": "2023-07-26T07:57:18.078979",
     "exception": false,
     "start_time": "2023-07-26T07:57:18.040839",
     "status": "completed"
    },
    "tags": []
   },
   "outputs": [],
   "source": [
    "sample_submission.to_csv('submission.csv', index=False)"
   ]
  }
 ],
 "metadata": {
  "kernelspec": {
   "display_name": "Python 3",
   "language": "python",
   "name": "python3"
  },
  "language_info": {
   "codemirror_mode": {
    "name": "ipython",
    "version": 3
   },
   "file_extension": ".py",
   "mimetype": "text/x-python",
   "name": "python",
   "nbconvert_exporter": "python",
   "pygments_lexer": "ipython3",
   "version": "3.10.9"
  },
  "papermill": {
   "default_parameters": {},
   "duration": 463.159089,
   "end_time": "2023-07-26T07:57:19.124693",
   "environment_variables": {},
   "exception": null,
   "input_path": "__notebook__.ipynb",
   "output_path": "__notebook__.ipynb",
   "parameters": {},
   "start_time": "2023-07-26T07:49:35.965604",
   "version": "2.4.0"
  }
 },
 "nbformat": 4,
 "nbformat_minor": 5
}
